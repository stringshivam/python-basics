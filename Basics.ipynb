{
 "cells": [
  {
   "attachments": {},
   "cell_type": "markdown",
   "metadata": {},
   "source": [
    "**Core Python Programming**\n",
    "1. Print() - Strings and f-Strings"
   ]
  },
  {
   "cell_type": "code",
   "execution_count": null,
   "metadata": {},
   "outputs": [],
   "source": [
    "prefix = '\"'\n",
    "print(f\"{prefix}Hello World!{prefix}\") #f-strings doesn't support escaping characters with backslash\n",
    "print(\"{}Hello World!{}\".format('\"','\"'))\n",
    "print(\"\\\"Hello World!\\\"\")"
   ]
  },
  {
   "attachments": {},
   "cell_type": "markdown",
   "metadata": {},
   "source": [
    "**Comments**\n",
    "- Single Line Comments\n",
    "- Multiline Comments"
   ]
  },
  {
   "cell_type": "code",
   "execution_count": null,
   "metadata": {},
   "outputs": [],
   "source": [
    "#Single Line Comment\n",
    "#Multiline Comment\n",
    "\n",
    "'''\n",
    "This Looks like \n",
    "Muliline Comment but it isn't\n",
    "as if we run only this code python will \n",
    "try to run this too. So this is instead \n",
    "multiline String\n",
    "'''\n",
    "\n",
    "print(\"Writing Something to get rid of the above multiline comment!\")"
   ]
  },
  {
   "attachments": {},
   "cell_type": "markdown",
   "metadata": {},
   "source": [
    "**Literal Constant**\n",
    "- Numbers\n",
    "    - Integers\n",
    "    - Floats\n",
    "    - Complex\n",
    "- Strings\n",
    "    - Single Quotes\n",
    "    - Double Quotes\n",
    "    - Triple Quotes\n",
    "    - Escape sequences (\\n,\\t,\\r)\n",
    "    - Explicit line joining\n"
   ]
  },
  {
   "cell_type": "code",
   "execution_count": null,
   "metadata": {},
   "outputs": [],
   "source": [
    "#Integer\n",
    "a = 5\n",
    "print(a)\n",
    "print(type(a))"
   ]
  },
  {
   "cell_type": "code",
   "execution_count": null,
   "metadata": {},
   "outputs": [],
   "source": [
    "#Float\n",
    "a = 45.5\n",
    "print(a)\n",
    "print(type(a))"
   ]
  },
  {
   "cell_type": "code",
   "execution_count": null,
   "metadata": {},
   "outputs": [],
   "source": [
    "#Complex\n",
    "a = 5j\n",
    "b = 1 + 6j\n",
    "print(b)\n",
    "print(b.imag)\n",
    "print(b.real)\n",
    "print(type(a))"
   ]
  },
  {
   "cell_type": "code",
   "execution_count": null,
   "metadata": {},
   "outputs": [],
   "source": [
    "#String\n",
    "a = \"Shivam is trying python.\"\n",
    "b = 'Shivam is trying single quote string'\n",
    "c = '''Shivam is trying\n",
    "multiline string'''\n",
    "print(a)\n",
    "print(type(a))\n",
    "print(c)\n",
    "print(type(c))"
   ]
  },
  {
   "attachments": {},
   "cell_type": "markdown",
   "metadata": {},
   "source": [
    "**Operators and expressions**\n",
    "- **Arithmetic Operators**\n"
   ]
  },
  {
   "cell_type": "code",
   "execution_count": null,
   "metadata": {},
   "outputs": [],
   "source": [
    "a = 10\n",
    "b = 19\n",
    "\n",
    "print(a+b)\n",
    "print(a-b)\n",
    "print(a/b)\n",
    "print(\"%0.4f\"%(a/b)) # To get some specific round off\n",
    "print(a//b)\n",
    "print(a*b)\n",
    "print(a**b) # Power of a Number\n",
    "print(a%b)"
   ]
  },
  {
   "cell_type": "code",
   "execution_count": null,
   "metadata": {},
   "outputs": [],
   "source": [
    "a,b,c = 10,20,30\n",
    "print(a,b,c)"
   ]
  },
  {
   "attachments": {},
   "cell_type": "markdown",
   "metadata": {},
   "source": [
    "**Comparison Operators**\n"
   ]
  },
  {
   "cell_type": "code",
   "execution_count": null,
   "metadata": {},
   "outputs": [],
   "source": [
    "a = 19\n",
    "b = 20\n",
    "\n",
    "print(a==b)\n",
    "print(a != b)\n",
    "print(a < b)\n",
    "print(a > b)\n",
    "print(a <= b)\n",
    "print(a >= b)\n",
    "print(\"aaa\" > \"bbb\") #Lexigraphic Comparison - Each Character is compared according to their position and then it is compared on the basis of ASCII Value\n",
    "print(\"aaa\" < \"bbb\")\n",
    "print(\"AAA\" > \"aaa\")\n",
    "print(ord(\"a\")) #ord() to find the ASCII Value of string\n",
    "print(ord(\"A\")) \n",
    "print(ord(\"1\"))"
   ]
  },
  {
   "attachments": {},
   "cell_type": "markdown",
   "metadata": {},
   "source": [
    "**Assignment Operator**\n"
   ]
  },
  {
   "cell_type": "code",
   "execution_count": null,
   "metadata": {},
   "outputs": [],
   "source": [
    "a = 10\n",
    "a += 10\n",
    "a *= 2\n",
    "a /= 2\n",
    "a %= 9\n",
    "a **= 2\n",
    "print(a)"
   ]
  },
  {
   "attachments": {},
   "cell_type": "markdown",
   "metadata": {},
   "source": [
    "**Logical Operators**\n"
   ]
  },
  {
   "cell_type": "code",
   "execution_count": null,
   "metadata": {},
   "outputs": [],
   "source": [
    "a = True\n",
    "b = False\n",
    "\n",
    "print(type(a))\n",
    "print(not(a))\n",
    "print(a and b)\n",
    "print(a or b)"
   ]
  }
 ],
 "metadata": {
  "kernelspec": {
   "display_name": "ds_env",
   "language": "python",
   "name": "python3"
  },
  "language_info": {
   "codemirror_mode": {
    "name": "ipython",
    "version": 3
   },
   "file_extension": ".py",
   "mimetype": "text/x-python",
   "name": "python",
   "nbconvert_exporter": "python",
   "pygments_lexer": "ipython3",
   "version": "3.10.9"
  },
  "orig_nbformat": 4,
  "vscode": {
   "interpreter": {
    "hash": "bfc6f7af9de2c8a5f64df531f2dd66dfb0630f1546ee5f66c7d4b33bd869b254"
   }
  }
 },
 "nbformat": 4,
 "nbformat_minor": 2
}
