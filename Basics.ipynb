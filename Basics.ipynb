{
 "cells": [
  {
   "attachments": {},
   "cell_type": "markdown",
   "metadata": {},
   "source": [
    "**Core Python Programming**\n",
    "1. Print() - Strings and f-Strings"
   ]
  },
  {
   "cell_type": "code",
   "execution_count": 6,
   "metadata": {},
   "outputs": [
    {
     "name": "stdout",
     "output_type": "stream",
     "text": [
      "\"Hello World!\"\n",
      "\"Hello World!\"\n",
      "\"Hello World!\"\n"
     ]
    }
   ],
   "source": [
    "prefix = '\"'\n",
    "print(f\"{prefix}Hello World!{prefix}\") #f-strings doesn't support escaping characters with backslash\n",
    "print(\"{}Hello World!{}\".format('\"','\"'))\n",
    "print(\"\\\"Hello World!\\\"\")"
   ]
  },
  {
   "attachments": {},
   "cell_type": "markdown",
   "metadata": {},
   "source": [
    "**Comments**\n",
    "- Single Line Comments\n",
    "- Multiline Comments"
   ]
  },
  {
   "cell_type": "code",
   "execution_count": 2,
   "metadata": {},
   "outputs": [
    {
     "name": "stdout",
     "output_type": "stream",
     "text": [
      "Writing Something to get rid of the above multiline comment!\n"
     ]
    }
   ],
   "source": [
    "#Single Line Comment\n",
    "#Multiline Comment\n",
    "\n",
    "'''\n",
    "This Looks like \n",
    "Muliline Comment but it isn't\n",
    "as if we run only this code python will \n",
    "try to run this too. So this is instead \n",
    "multiline String\n",
    "'''\n",
    "\n",
    "print(\"Writing Something to get rid of the above multiline comment!\")"
   ]
  },
  {
   "attachments": {},
   "cell_type": "markdown",
   "metadata": {},
   "source": [
    "**Literal Constant**\n",
    "- Numbers\n",
    "    - Integers\n",
    "    - Floats\n",
    "    - Complex\n",
    "- Strings\n",
    "    - Single Quotes\n",
    "    - Double Quotes\n",
    "    - Triple Quotes\n",
    "    - Escape sequences (\\n,\\t,\\r)\n",
    "    - Explicit line joining\n"
   ]
  },
  {
   "cell_type": "code",
   "execution_count": 3,
   "metadata": {},
   "outputs": [
    {
     "name": "stdout",
     "output_type": "stream",
     "text": [
      "5\n",
      "<class 'int'>\n"
     ]
    }
   ],
   "source": [
    "#Integer\n",
    "a = 5\n",
    "print(a)\n",
    "print(type(a))"
   ]
  },
  {
   "cell_type": "code",
   "execution_count": 4,
   "metadata": {},
   "outputs": [
    {
     "name": "stdout",
     "output_type": "stream",
     "text": [
      "45.5\n",
      "<class 'float'>\n"
     ]
    }
   ],
   "source": [
    "#Float\n",
    "a = 45.5\n",
    "print(a)\n",
    "print(type(a))"
   ]
  },
  {
   "cell_type": "code",
   "execution_count": 8,
   "metadata": {},
   "outputs": [
    {
     "name": "stdout",
     "output_type": "stream",
     "text": [
      "(1+6j)\n",
      "6.0\n",
      "1.0\n",
      "<class 'complex'>\n"
     ]
    }
   ],
   "source": [
    "#Complex\n",
    "a = 5j\n",
    "b = 1 + 6j\n",
    "print(b)\n",
    "print(b.imag)\n",
    "print(b.real)\n",
    "print(type(a))"
   ]
  },
  {
   "cell_type": "code",
   "execution_count": 1,
   "metadata": {},
   "outputs": [
    {
     "name": "stdout",
     "output_type": "stream",
     "text": [
      "Shivam is trying python.\n",
      "<class 'str'>\n",
      "Shivam is trying\n",
      "multiline string\n",
      "<class 'str'>\n"
     ]
    }
   ],
   "source": [
    "#String\n",
    "a = \"Shivam is trying python.\"\n",
    "b = 'Shivam is trying single quote string'\n",
    "c = '''Shivam is trying\n",
    "multiline string'''\n",
    "print(a)\n",
    "print(type(a))\n",
    "print(c)\n",
    "print(type(c))"
   ]
  }
 ],
 "metadata": {
  "kernelspec": {
   "display_name": "ds_env",
   "language": "python",
   "name": "python3"
  },
  "language_info": {
   "codemirror_mode": {
    "name": "ipython",
    "version": 3
   },
   "file_extension": ".py",
   "mimetype": "text/x-python",
   "name": "python",
   "nbconvert_exporter": "python",
   "pygments_lexer": "ipython3",
   "version": "3.10.9"
  },
  "orig_nbformat": 4,
  "vscode": {
   "interpreter": {
    "hash": "bfc6f7af9de2c8a5f64df531f2dd66dfb0630f1546ee5f66c7d4b33bd869b254"
   }
  }
 },
 "nbformat": 4,
 "nbformat_minor": 2
}
