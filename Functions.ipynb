{
 "cells": [
  {
   "attachments": {},
   "cell_type": "markdown",
   "metadata": {},
   "source": [
    "**Functions** \n",
    "\n",
    "Helps us to reuse the code"
   ]
  },
  {
   "cell_type": "code",
   "execution_count": null,
   "metadata": {},
   "outputs": [],
   "source": [
    "def sum(a, b):\n",
    "    return a+b\n",
    "\n",
    "print(sum(10,1))"
   ]
  },
  {
   "cell_type": "code",
   "execution_count": null,
   "metadata": {},
   "outputs": [],
   "source": [
    "#Function with Default Parameters\n",
    "def sheldon_knock(name, no_of_knocks = 3):\n",
    "    for i in range(no_of_knocks):\n",
    "        print('Knock! Knock! Knock! {}'.format(name))\n",
    "\n",
    "sheldon_knock(\"Shivam\")"
   ]
  },
  {
   "attachments": {},
   "cell_type": "markdown",
   "metadata": {},
   "source": [
    "Return, Local, Global"
   ]
  },
  {
   "cell_type": "code",
   "execution_count": null,
   "metadata": {},
   "outputs": [],
   "source": [
    "#Return\n",
    "def subtract(a, b):\n",
    "    return a - b\n",
    "\n",
    "calling_subtract = subtract(10,4)\n",
    "print(calling_subtract)"
   ]
  },
  {
   "cell_type": "code",
   "execution_count": null,
   "metadata": {},
   "outputs": [],
   "source": [
    "#Even after using return statement still finally block is executed\n",
    "def divide(a, b):\n",
    "    try:\n",
    "        return a/b\n",
    "    except:\n",
    "        print(\"Error\")\n",
    "    finally:\n",
    "        print(\"Function Executed!\")\n",
    "\n",
    "print(divide(9,10))"
   ]
  },
  {
   "attachments": {},
   "cell_type": "markdown",
   "metadata": {},
   "source": [
    "Local and Global Variables"
   ]
  },
  {
   "cell_type": "code",
   "execution_count": null,
   "metadata": {},
   "outputs": [],
   "source": [
    "#To Update the value of global inside a function, one should use global keyword inside the function\n",
    "x = 10 \n",
    "\n",
    "def show():\n",
    "    global x \n",
    "    x += 5\n",
    "    print(x)\n",
    "\n",
    "show()\n",
    "print(\"Global x: \" + str(x))"
   ]
  },
  {
   "cell_type": "code",
   "execution_count": null,
   "metadata": {},
   "outputs": [],
   "source": [
    "#enclosures\n",
    "def outer():\n",
    "    z = 10\n",
    "    def inner():\n",
    "        nonlocal z\n",
    "        z += 5\n",
    "        print(z)\n",
    "    \n",
    "    inner()\n",
    "    print(z)\n",
    "\n",
    "\n",
    "outer()\n",
    "del x"
   ]
  },
  {
   "attachments": {},
   "cell_type": "markdown",
   "metadata": {},
   "source": [
    "**Arguments**\n",
    "- Positional Arguments\n",
    "- *args (Tuples)\n",
    "- Default Arguments\n",
    "- **kwargs (Dic)"
   ]
  },
  {
   "cell_type": "code",
   "execution_count": null,
   "metadata": {},
   "outputs": [],
   "source": [
    "def abc(a,b,c, *args, d = 10, name = 'Shivam',**kwargs):\n",
    "    print(a)\n",
    "    print(b)\n",
    "    print(c)\n",
    "    print(d)\n",
    "    print(name)\n",
    "    try:\n",
    "        print(args[2])\n",
    "        print(args)\n",
    "        print(kwargs)\n",
    "    except:\n",
    "        pass\n",
    "    print()\n",
    "\n",
    "\n",
    "\n",
    "abc(a = 4,c = 5,b = 3,name = 'Rahul') #Keyworded Arguments\n",
    "abc(0,2,1,77,324,2113, roll_no = 34, caste = \"general\")"
   ]
  },
  {
   "attachments": {},
   "cell_type": "markdown",
   "metadata": {},
   "source": [
    "**Lambda Functions**"
   ]
  },
  {
   "cell_type": "code",
   "execution_count": null,
   "metadata": {},
   "outputs": [],
   "source": [
    "def add(a, b):\n",
    "    return a + b\n",
    "\n",
    "print(add(2,5))\n",
    "print(add)\n",
    "\n",
    "add = lambda x,y : x + y\n",
    "print(add(5,6))\n",
    "print(add)"
   ]
  },
  {
   "cell_type": "code",
   "execution_count": null,
   "metadata": {},
   "outputs": [],
   "source": [
    "a = [(\"Shivam\",10), (\"Karan\", 1), (\"Shweta\", 8)]\n",
    "sorted(a, key = lambda x: x[1])"
   ]
  },
  {
   "cell_type": "code",
   "execution_count": null,
   "metadata": {},
   "outputs": [],
   "source": [
    "def key(x):\n",
    "    return x[1]\n",
    "\n",
    "sorted(a,key=key)"
   ]
  },
  {
   "attachments": {},
   "cell_type": "markdown",
   "metadata": {},
   "source": [
    "**Decorator**"
   ]
  },
  {
   "cell_type": "code",
   "execution_count": 64,
   "metadata": {},
   "outputs": [],
   "source": [
    "users = {\n",
    "    \"shivam\" : \"Dell@123\",\n",
    "    \"nibha\" : \"Test\"\n",
    "}"
   ]
  },
  {
   "cell_type": "code",
   "execution_count": 67,
   "metadata": {},
   "outputs": [
    {
     "name": "stdout",
     "output_type": "stream",
     "text": [
      "Welcome Screen!\n"
     ]
    }
   ],
   "source": [
    "def show(username, password):\n",
    "    if username in users and users[username] == password:\n",
    "        print(\"Welcome Screen!\")\n",
    "    else:\n",
    "        print(\"Wrong Creds!\")\n",
    "\n",
    "show(\"shivam\",\"Dell@123\")\n",
    "\n",
    "def add(a, b):\n",
    "    print(a+b)"
   ]
  },
  {
   "cell_type": "code",
   "execution_count": 77,
   "metadata": {},
   "outputs": [
    {
     "name": "stdout",
     "output_type": "stream",
     "text": [
      "8\n",
      "2.0\n"
     ]
    }
   ],
   "source": [
    "def auth(func):\n",
    "    def wrapper(username, password, *args, **kwargs):\n",
    "        if username in users and users[username] == password:\n",
    "            #User is authenticated\n",
    "            func(*args, **kwargs)\n",
    "        else:\n",
    "            print(\"Wrong Creds!\")\n",
    "\n",
    "    return wrapper\n",
    "\n",
    "def subtract(a, b):\n",
    "    print(a - b)\n",
    "\n",
    "protected_subtract = auth(subtract)\n",
    "\n",
    "type(protected_subtract)\n",
    "protected_subtract(\"shivam\",\"Dell@123\",10,2)\n",
    "\n",
    "@auth\n",
    "def protected_divide(a, b):\n",
    "    print(a/b)\n",
    "\n",
    "protected_divide(\"shivam\",\"Dell@123\",4,2)"
   ]
  }
 ],
 "metadata": {
  "kernelspec": {
   "display_name": "ds_env",
   "language": "python",
   "name": "python3"
  },
  "language_info": {
   "codemirror_mode": {
    "name": "ipython",
    "version": 3
   },
   "file_extension": ".py",
   "mimetype": "text/x-python",
   "name": "python",
   "nbconvert_exporter": "python",
   "pygments_lexer": "ipython3",
   "version": "3.10.9"
  },
  "orig_nbformat": 4,
  "vscode": {
   "interpreter": {
    "hash": "bfc6f7af9de2c8a5f64df531f2dd66dfb0630f1546ee5f66c7d4b33bd869b254"
   }
  }
 },
 "nbformat": 4,
 "nbformat_minor": 2
}
