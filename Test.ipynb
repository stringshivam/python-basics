{
 "cells": [
  {
   "attachments": {},
   "cell_type": "markdown",
   "metadata": {},
   "source": [
    "**Core Python Programming**\n",
    "1. Print() - Strings and f-Strings"
   ]
  },
  {
   "cell_type": "code",
   "execution_count": 6,
   "metadata": {},
   "outputs": [
    {
     "name": "stdout",
     "output_type": "stream",
     "text": [
      "\"Hello World!\"\n",
      "\"Hello World!\"\n",
      "\"Hello World!\"\n"
     ]
    }
   ],
   "source": [
    "prefix = '\"'\n",
    "print(f\"{prefix}Hello World!{prefix}\") #f-strings doesn't support escaping characters with backslash\n",
    "print(\"{}Hello World!{}\".format('\"','\"'))\n",
    "print(\"\\\"Hello World!\\\"\")"
   ]
  },
  {
   "cell_type": "code",
   "execution_count": null,
   "metadata": {},
   "outputs": [],
   "source": []
  }
 ],
 "metadata": {
  "kernelspec": {
   "display_name": "ds_env",
   "language": "python",
   "name": "python3"
  },
  "language_info": {
   "codemirror_mode": {
    "name": "ipython",
    "version": 3
   },
   "file_extension": ".py",
   "mimetype": "text/x-python",
   "name": "python",
   "nbconvert_exporter": "python",
   "pygments_lexer": "ipython3",
   "version": "3.10.9"
  },
  "orig_nbformat": 4,
  "vscode": {
   "interpreter": {
    "hash": "bfc6f7af9de2c8a5f64df531f2dd66dfb0630f1546ee5f66c7d4b33bd869b254"
   }
  }
 },
 "nbformat": 4,
 "nbformat_minor": 2
}
