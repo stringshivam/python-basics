{
 "cells": [
  {
   "attachments": {},
   "cell_type": "markdown",
   "metadata": {},
   "source": [
    "In Python there is no data type available. Every data type is nothing but a class. As you can see in the below error message, when we crete a list it creates the object of the list.\n"
   ]
  },
  {
   "cell_type": "code",
   "execution_count": 1,
   "metadata": {},
   "outputs": [
    {
     "ename": "AttributeError",
     "evalue": "'list' object has no attribute 'upper'",
     "output_type": "error",
     "traceback": [
      "\u001b[1;31m---------------------------------------------------------------------------\u001b[0m",
      "\u001b[1;31mAttributeError\u001b[0m                            Traceback (most recent call last)",
      "Cell \u001b[1;32mIn[1], line 2\u001b[0m\n\u001b[0;32m      1\u001b[0m L \u001b[39m=\u001b[39m [\u001b[39m1\u001b[39m,\u001b[39m2\u001b[39m,\u001b[39m3\u001b[39m]\n\u001b[1;32m----> 2\u001b[0m L\u001b[39m.\u001b[39;49mupper()\n",
      "\u001b[1;31mAttributeError\u001b[0m: 'list' object has no attribute 'upper'"
     ]
    }
   ],
   "source": [
    "L = [1,2,3]\n",
    "L.upper()"
   ]
  },
  {
   "attachments": {},
   "cell_type": "markdown",
   "metadata": {},
   "source": [
    "Class always follow PascalCase. Inside Class we can have attributes and methods. \n",
    "Note: There is special methods such as constructor and other dunders such as __str__, __add__ etc.\n"
   ]
  },
  {
   "attachments": {},
   "cell_type": "markdown",
   "metadata": {},
   "source": [
    "`Q-1:` Rectangle Class\n",
    "1. Write a Rectangle class in Python language, allowing you to build a rectangle with length and width attributes.\n",
    "\n",
    "2. Create a Perimeter() method to calculate the perimeter of the rectangle and a Area() method to calculate the area of ​​the rectangle.\n",
    "\n",
    "3. Create a method display() that display the length, width, perimeter and area of an object created using an instantiation on rectangle class."
   ]
  },
  {
   "cell_type": "code",
   "execution_count": 10,
   "metadata": {},
   "outputs": [
    {
     "name": "stdout",
     "output_type": "stream",
     "text": [
      "The length of rectangle is:  3\n",
      "The width of rectangle is:  4\n",
      "The perimeter of rectangle is:  14\n",
      "The area of rectangle is:  12\n"
     ]
    }
   ],
   "source": [
    "class Rectangle:\n",
    "    \n",
    "    def __init__(self, l,w):\n",
    "        self.length = int(l)\n",
    "        self.width = int(w)\n",
    "        \n",
    "    def Perimeter(self):\n",
    "        #self is an object of the same class which points to the latest object of that class\n",
    "        return 2 * (self.length + self.width)\n",
    "    \n",
    "    def Area(self):\n",
    "        return self.length * self.width        \n",
    "    \n",
    "    def display(self):\n",
    "        print(f'''The length of rectangle is:  {self.length}\n",
    "The width of rectangle is:  {self.width}\n",
    "The perimeter of rectangle is:  {self.Perimeter()}\n",
    "The area of rectangle is:  {self.Area()}''')\n",
    "        \n",
    "   \n",
    "my_rectangle = Rectangle(3 , 4)\n",
    "my_rectangle.display() \n"
   ]
  },
  {
   "attachments": {},
   "cell_type": "markdown",
   "metadata": {},
   "source": [
    "##`Q-2: Bank Class`\n",
    "\n",
    "1. Create a Python class called `BankAccount` which represents a bank account, having as attributes: `accountNumber` (numeric type), `name` (name of the account owner as string type), `balance`.\n",
    "2. Create a constructor with parameters: `accountNumber, name, balance`.\n",
    "3. Create a `Deposit()` method which manages the deposit actions.\n",
    "4. Create a `Withdrawal()` method  which manages withdrawals actions.\n",
    "5. Create an `bankFees()` method to apply the bank fees with a percentage of 5% of the balance account.\n",
    "6. Create a `display()` method to display account details.\n",
    "Give the complete code for the  BankAccount class."
   ]
  },
  {
   "cell_type": "code",
   "execution_count": 30,
   "metadata": {},
   "outputs": [
    {
     "name": "stdout",
     "output_type": "stream",
     "text": [
      "Account Number :  2178514584\n",
      "Account Name :  Mandy\n",
      "Account Balance :  1400.0 ₹\n",
      "              \n"
     ]
    }
   ],
   "source": [
    "import uuid\n",
    "\n",
    "class BankAccount:\n",
    "    \n",
    "    def __init__(self,accNo,name,b):\n",
    "        self.accountNumber = accNo\n",
    "        self.name = name\n",
    "        self.balance = b \n",
    "    \n",
    "    def Deposit(self, depositAmount):\n",
    "        if int(depositAmount)>0:\n",
    "            self.balance += int(depositAmount)\n",
    "        else:\n",
    "            print(\"Please Enter Valid Amount\")\n",
    "        \n",
    "    def Withdrawal(self, withdrawAmount):\n",
    "        if int(withdrawAmount)>0 and int(withdrawAmount) <= self.balance and int(withdrawAmount)< 10000:\n",
    "            self.balance -= int(withdrawAmount)\n",
    "        elif int(withdrawAmount)>0 and int(withdrawAmount) <= self.balance and int(withdrawAmount)>= 10000:\n",
    "            self.balance = self.balance - (int(withdrawAmount) + self.bankFees(int(withdrawAmount)))\n",
    "        else:\n",
    "            print(\"Please Enter Valid Amount\")\n",
    "        \n",
    "        \n",
    "            \n",
    "    def bankFees(self, withdrawAmount):\n",
    "        return withdrawAmount * 0.05\n",
    "    \n",
    "    def display(self):\n",
    "        print(f'''Account Number :  {self.accountNumber}\n",
    "Account Name :  {self.name}\n",
    "Account Balance :  {self.balance} ₹\n",
    "              ''')\n",
    "    \n",
    "    def __add__(self,other):\n",
    "        self.balance += other.balance\n",
    "        self.accountNumber = uuid.uuid4()\n",
    "        self.name = other.name\n",
    "        print(f'Account Merged')\n",
    "        return self\n",
    "        \n",
    "newAccount = BankAccount(2178514584, \"Mandy\" , 14000)\n",
    "\n",
    "# oldAccount = BankAccount(2013102432, \"Rahul\", 1200)\n",
    "\n",
    "newAccount.Withdrawal(12000)\n",
    "\n",
    "# newAccount.Deposit(1000)\n",
    "\n",
    "newAccount.display()\n",
    "# oldAccount.display()\n",
    "\n",
    "\n",
    "# mergedAccount = newAccount + oldAccount\n",
    "# mergedAccount.display()\n"
   ]
  },
  {
   "attachments": {},
   "cell_type": "markdown",
   "metadata": {},
   "source": [
    "##`Q-3:Computation class`\n",
    "\n",
    "1. Create a `Computation` class with a default constructor (without parameters) allowing to perform various calculations on integers numbers.\n",
    "2. Create a method called `Factorial()` which allows to calculate the factorial of an integer n. Integer n as parameter for this method\n",
    "\n",
    "3. Create a method called `naturalSum()` allowing to calculate the sum of the first n integers 1 + 2 + 3 + .. + n. Integer n as parameter for this method.\n",
    "\n",
    "4. Create a method called `testPrime()` in  the Calculation class to test the primality of a given integer n, n is Prime or Not? Integer n as parameter for this method.\n",
    "\n",
    "5. Create  a method called `testPrims()` allowing to test if two numbers are prime between them. Two integers are prime to one another if they have only `1` as their common divisor. Eg. 4 and 9 are prime to each other.\n",
    "\n",
    "5. Create a `tableMult()` method which creates and displays the multiplication table of a given integer. Then create an `allTablesMult()` method to display all the integer multiplication tables 1, 2, 3, ..., 9.\n",
    "\n",
    "6. Create a static `listDiv()` method that gets all the divisors of a given integer on new list called  Ldiv. Create another `listDivPrim()` method that gets all the prime divisors of a given integer."
   ]
  }
 ],
 "metadata": {
  "kernelspec": {
   "display_name": "ds_env",
   "language": "python",
   "name": "python3"
  },
  "language_info": {
   "codemirror_mode": {
    "name": "ipython",
    "version": 3
   },
   "file_extension": ".py",
   "mimetype": "text/x-python",
   "name": "python",
   "nbconvert_exporter": "python",
   "pygments_lexer": "ipython3",
   "version": "3.9.13"
  },
  "orig_nbformat": 4,
  "vscode": {
   "interpreter": {
    "hash": "bfc6f7af9de2c8a5f64df531f2dd66dfb0630f1546ee5f66c7d4b33bd869b254"
   }
  }
 },
 "nbformat": 4,
 "nbformat_minor": 2
}
